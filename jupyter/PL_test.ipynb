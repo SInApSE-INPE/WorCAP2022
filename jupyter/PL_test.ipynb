{
 "cells": [
  {
   "cell_type": "code",
   "execution_count": 15,
   "metadata": {},
   "outputs": [],
   "source": [
    "import numpy as np\n",
    "import pandas as pd\n",
    "import matplotlib.pyplot as plt"
   ]
  },
  {
   "cell_type": "code",
   "execution_count": 20,
   "metadata": {},
   "outputs": [],
   "source": [
    "PL01 = pd.read_csv('../csv/PL/PL01_Presences.csv', sep=',')\n",
    "PL01 = PL01.drop_duplicates(subset=['E-mail'])"
   ]
  },
  {
   "cell_type": "code",
   "execution_count": 25,
   "metadata": {},
   "outputs": [],
   "source": [
    "PL02 = pd.read_csv('../csv/PL/PL02_Presences.csv', sep=',')\n",
    "PL02 = PL02.drop_duplicates(subset=['E-mail'])"
   ]
  },
  {
   "cell_type": "code",
   "execution_count": 43,
   "metadata": {},
   "outputs": [],
   "source": [
    "PL03 = pd.read_csv('../csv/PL/PL03_Presences.csv', sep=',')\n",
    "PL03 = PL03.drop_duplicates(subset=['E-mail'])"
   ]
  },
  {
   "cell_type": "code",
   "execution_count": 44,
   "metadata": {},
   "outputs": [],
   "source": [
    "PL04 = pd.read_csv('../csv/PL/PL04_Presences.csv', sep=',')\n",
    "PL04 = PL04.drop_duplicates(subset=['E-mail'])"
   ]
  },
  {
   "cell_type": "code",
   "execution_count": 46,
   "metadata": {},
   "outputs": [],
   "source": [
    "PL05 = pd.read_csv('../csv/PL/PL05_Presences.csv', sep=',')\n",
    "PL05 = PL05.drop_duplicates(subset=['E-mail'])"
   ]
  },
  {
   "cell_type": "code",
   "execution_count": 48,
   "metadata": {},
   "outputs": [],
   "source": [
    "PL06 = pd.read_csv('../csv/PL/PL06_Presences.csv', sep=',')\n",
    "PL06 = PL06.drop_duplicates(subset=['E-mail'])"
   ]
  },
  {
   "cell_type": "code",
   "execution_count": 49,
   "metadata": {},
   "outputs": [],
   "source": [
    "PL07 = pd.read_csv('../csv/PL/PL07_Presences.csv', sep=',')\n",
    "PL07 = PL07.drop_duplicates(subset=['E-mail'])"
   ]
  },
  {
   "cell_type": "code",
   "execution_count": 50,
   "metadata": {},
   "outputs": [],
   "source": [
    "PL08 = pd.read_csv('../csv/PL/PL08_Presences.csv', sep=',')\n",
    "PL08 = PL08.drop_duplicates(subset=['E-mail'])"
   ]
  },
  {
   "cell_type": "code",
   "execution_count": 51,
   "metadata": {},
   "outputs": [],
   "source": [
    "PL09 = pd.read_csv('../csv/PL/PL09_Presences.csv', sep=',')\n",
    "PL09 = PL09.drop_duplicates(subset=['E-mail'])"
   ]
  },
  {
   "cell_type": "code",
   "execution_count": 52,
   "metadata": {},
   "outputs": [],
   "source": [
    "frames = [PL01, PL02, PL03, PL04, PL05, PL06, PL07, PL08, PL09]\n",
    "PL = pd.concat(frames)"
   ]
  },
  {
   "cell_type": "code",
   "execution_count": 76,
   "metadata": {},
   "outputs": [],
   "source": [
    "presence_count = PL['E-mail'].value_counts()"
   ]
  },
  {
   "cell_type": "code",
   "execution_count": 77,
   "metadata": {},
   "outputs": [],
   "source": [
    "presence = pd.DataFrame({'E-mail': presence_count.index, 'Presence': presence_count.values})"
   ]
  },
  {
   "cell_type": "code",
   "execution_count": 79,
   "metadata": {},
   "outputs": [],
   "source": [
    "nameout = '../csv/out/PL_Presences.csv'\n",
    "presence.to_csv(nameout, sep=',', index=False)"
   ]
  }
 ],
 "metadata": {
  "kernelspec": {
   "display_name": "Python 3.9.12 ('base')",
   "language": "python",
   "name": "python3"
  },
  "language_info": {
   "codemirror_mode": {
    "name": "ipython",
    "version": 3
   },
   "file_extension": ".py",
   "mimetype": "text/x-python",
   "name": "python",
   "nbconvert_exporter": "python",
   "pygments_lexer": "ipython3",
   "version": "3.9.12"
  },
  "orig_nbformat": 4,
  "vscode": {
   "interpreter": {
    "hash": "49cb93f377a7abe7414b7b0f21fb3017538004a126cf690fb524202736b7fb92"
   }
  }
 },
 "nbformat": 4,
 "nbformat_minor": 2
}
